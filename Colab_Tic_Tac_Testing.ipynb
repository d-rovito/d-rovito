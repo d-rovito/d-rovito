{
  "nbformat": 4,
  "nbformat_minor": 0,
  "metadata": {
    "colab": {
      "provenance": [],
      "include_colab_link": true
    },
    "kernelspec": {
      "name": "python3",
      "display_name": "Python 3"
    },
    "language_info": {
      "name": "python"
    }
  },
  "cells": [
    {
      "cell_type": "markdown",
      "metadata": {
        "id": "view-in-github",
        "colab_type": "text"
      },
      "source": [
        "<a href=\"https://colab.research.google.com/github/d-rovito/d-rovito/blob/main/Colab_Tic_Tac_Testing.ipynb\" target=\"_parent\"><img src=\"https://colab.research.google.com/assets/colab-badge.svg\" alt=\"Open In Colab\"/></a>"
      ]
    },
    {
      "cell_type": "markdown",
      "source": [
        "# Tic-Tac-Testing\n",
        "\n",
        "Below is a simple Tic-Tac-Toe game."
      ],
      "metadata": {
        "id": "C-JeAE8H--Bf"
      }
    },
    {
      "cell_type": "code",
      "execution_count": null,
      "metadata": {
        "id": "2Wk8qEJs-zQt"
      },
      "outputs": [],
      "source": [
        "# tic_tac_toe_colab.py\n",
        "\n",
        "\n",
        "def initialize_board():\n",
        "    \"\"\"Initialize an empty 3x3 Tic-Tac-Toe board.\"\"\"\n",
        "    return [[\" \" for _ in range(3)] for _ in range(3)]\n",
        "\n",
        "\n",
        "def display_board(board):\n",
        "    \"\"\"Display the current game board.\"\"\"\n",
        "    for row in board:\n",
        "        print(\"|\".join(row))\n",
        "        print(\"-\" * 5)\n",
        "\n",
        "\n",
        "def make_move(board, row, col, player):\n",
        "    \"\"\"Place a player's move on the board.\"\"\"\n",
        "    if board[row][col] == \" \":\n",
        "        board[row][col] = player\n",
        "        return True\n",
        "    return False\n",
        "\n",
        "\n",
        "def check_winner(board):\n",
        "    \"\"\"Check if there's a winner or a tie.\"\"\"\n",
        "    # Check rows, columns, and diagonals\n",
        "    for i in range(3):\n",
        "        if board[i][0] == board[i][1] == board[i][2] != \" \":\n",
        "            return board[i][0]\n",
        "        if board[0][i] == board[1][i] == board[2][i] != \" \":\n",
        "            return board[0][i]\n",
        "    if board[0][0] == board[1][1] == board[2][2] != \" \":\n",
        "        return board[0][0]\n",
        "    if board[0][2] == board[1][1] == board[2][0] != \" \":\n",
        "        return board[0][2]\n",
        "    # Check for tie\n",
        "    if all(cell != \" \" for row in board for cell in row):\n",
        "        return \"Tie\"\n",
        "    return None\n",
        "\n",
        "\n",
        "def tic_tac_toe_game():\n",
        "    \"\"\"Main game loop for Colab.\"\"\"\n",
        "    board = initialize_board()\n",
        "    current_player = \"X\"\n",
        "    winner = None\n",
        "\n",
        "    print(\"Welcome to Tic-Tac-Toe!\")\n",
        "    print(\"Players take turns entering their moves as row and column indices (0-2).\")\n",
        "\n",
        "    while not winner:\n",
        "        display_board(board)\n",
        "        print(f\"{current_player}'s turn!\")\n",
        "        # Input loop for valid moves\n",
        "        valid_move = False\n",
        "        while not valid_move:\n",
        "            try:\n",
        "                move = input(\"Enter your move as 'row,col': \").strip()\n",
        "                row, col = map(int, move.split(\",\"))\n",
        "                if not (0 <= row < 3 and 0 <= col < 3):\n",
        "                    print(\"Invalid indices! Please enter numbers between 0 and 2.\")\n",
        "                    continue\n",
        "                if not make_move(board, row, col, current_player):\n",
        "                    print(\"Cell already taken! Try again.\")\n",
        "                    continue\n",
        "                valid_move = True\n",
        "            except ValueError:\n",
        "                print(\"Invalid input! Please enter your move in the format 'row,col'.\")\n",
        "\n",
        "        winner = check_winner(board)\n",
        "        current_player = \"O\" if current_player == \"X\" else \"X\"\n",
        "\n",
        "    display_board(board)\n",
        "    if winner == \"Tie\":\n",
        "        print(\"It's a tie!\")\n",
        "    else:\n",
        "        print(f\"Player {winner} wins!\")\n"
      ]
    },
    {
      "cell_type": "markdown",
      "source": [
        "You can run the game like this:"
      ],
      "metadata": {
        "id": "PRpr4vMV_Uhx"
      }
    },
    {
      "cell_type": "code",
      "source": [
        "tic_tac_toe_game()"
      ],
      "metadata": {
        "id": "4IxBnhDM_TWo"
      },
      "execution_count": null,
      "outputs": []
    },
    {
      "cell_type": "markdown",
      "source": [
        "Your goal for this assignment is to create [unit tests](https://en.wikipedia.org/wiki/Unit_testing) for this game. Try to get 100% test coverage if you can! Do not worry about writing tests for the main game loop (unless you want the challenge!)"
      ],
      "metadata": {
        "id": "2Tjv9-Ue_Xxo"
      }
    },
    {
      "cell_type": "code",
      "source": [
        "import unittest\n",
        "\n",
        "# TODO: write some tests!"
      ],
      "metadata": {
        "id": "d0hhV5Np_nyg"
      },
      "execution_count": null,
      "outputs": []
    }
  ]
}